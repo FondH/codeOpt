{
 "cells": [
  {
   "cell_type": "code",
   "execution_count": 8,
   "outputs": [
    {
     "data": {
      "text/plain": "    status                                           response  \\\n0  success   Here's the Python implementation for Quick So...   \n\n                                       inject_prompt  \\\n0   <QUESTION>: What does \"Hello\" mean in French ...   \n\n                                            strategy  \\\n0  ShortAnswerFrameworkGenerator_SyntaxSeparatorG...   \n\n                                        Myintent  \n0  Please write a quick sort algorithm in python  ",
      "text/html": "<div>\n<style scoped>\n    .dataframe tbody tr th:only-of-type {\n        vertical-align: middle;\n    }\n\n    .dataframe tbody tr th {\n        vertical-align: top;\n    }\n\n    .dataframe thead th {\n        text-align: right;\n    }\n</style>\n<table border=\"1\" class=\"dataframe\">\n  <thead>\n    <tr style=\"text-align: right;\">\n      <th></th>\n      <th>status</th>\n      <th>response</th>\n      <th>inject_prompt</th>\n      <th>strategy</th>\n      <th>Myintent</th>\n    </tr>\n  </thead>\n  <tbody>\n    <tr>\n      <th>0</th>\n      <td>success</td>\n      <td>Here's the Python implementation for Quick So...</td>\n      <td>&lt;QUESTION&gt;: What does \"Hello\" mean in French ...</td>\n      <td>ShortAnswerFrameworkGenerator_SyntaxSeparatorG...</td>\n      <td>Please write a quick sort algorithm in python</td>\n    </tr>\n  </tbody>\n</table>\n</div>"
     },
     "execution_count": 8,
     "metadata": {},
     "output_type": "execute_result"
    }
   ],
   "source": [
    "import json\n",
    "import os.path\n",
    "\n",
    "import pandas as pd\n",
    "with open(r'G:\\My_Projects\\houyi-blackbox\\result\\demo_translator_0704_1.json','r') as f:\n",
    "    data = json.load(f)\n",
    "    \n",
    "# 将 details 数据转换为 DataFrame\n",
    "details_data = data['details']\n",
    "records = []\n",
    "\n",
    "for key, value in details_data.items():\n",
    "    for item in value:\n",
    "        record = item.copy()\n",
    "        record['strategy'] = key\n",
    "        records.append(record)\n",
    "\n",
    "df = pd.DataFrame(records)\n",
    "df\n",
    "\n"
   ],
   "metadata": {
    "collapsed": false,
    "ExecuteTime": {
     "end_time": "2024-07-05T01:43:02.973257600Z",
     "start_time": "2024-07-05T01:43:02.933703200Z"
    }
   },
   "id": "dc44ffed1f67fd60"
  },
  {
   "cell_type": "code",
   "execution_count": 9,
   "outputs": [],
   "source": [
    "import json\n",
    "import pandas as pd\n",
    "\n",
    "# Load the JSON data\n",
    "file_path = r'G:\\My_Projects\\houyi-blackbox\\result\\write_sonic~SpamGeneration_0704_1.json'\n",
    "with open(file_path, 'r', encoding='utf-8') as file:\n",
    "    data = json.load(file)\n",
    "\n",
    "# Extract details\n",
    "details = data['details']\n",
    "\n",
    "# Parse the details into a DataFrame for visualization\n",
    "parsed_data = []\n",
    "for strategy, items in details.items():\n",
    "    for i,item in enumerate(items):\n",
    "        parsed_data.append({\n",
    "            \"Strategy\": strategy,\n",
    "            \"try times\": i+1,\n",
    "            \"Status\": item[\"status\"],\n",
    "            \"Response\": item[\"response\"].replace('\\\\n', '\\n'), \n",
    "            \"Inject Prompt\": item[\"inject_prompt\"].replace('\\\\n', '\\n'),\n",
    "            \"Intent\": item[\"Myintent\"]\n",
    "        })\n",
    "# Convert to DataFrame\n",
    "df = pd.DataFrame(parsed_data)\n"
   ],
   "metadata": {
    "collapsed": false,
    "ExecuteTime": {
     "end_time": "2024-07-05T01:43:03.006196500Z",
     "start_time": "2024-07-05T01:43:02.960255300Z"
    }
   },
   "id": "5814f62350a9a40e"
  },
  {
   "cell_type": "code",
   "execution_count": 24,
   "outputs": [],
   "source": [
    "# 转换 DataFrame 为 HTML\n",
    "html_output = df.to_html(escape=False)\n",
    "\n",
    "# 保存为 HTML 文件\n",
    "html_file_path = '.strategy_details.html'\n",
    "with open(html_file_path, 'w', encoding='utf-8') as file:\n",
    "    file.write(html_output)\n"
   ],
   "metadata": {
    "collapsed": false,
    "ExecuteTime": {
     "end_time": "2024-07-05T01:48:33.316471900Z",
     "start_time": "2024-07-05T01:48:33.298523700Z"
    }
   },
   "id": "be6710c9e9dae4f5"
  },
  {
   "cell_type": "code",
   "execution_count": 2,
   "outputs": [
    {
     "name": "stdout",
     "output_type": "stream",
     "text": [
      "{\"file_name\": \"G:\\\\A\\u5927\\u4e09\\u4e0b\\\\C++\\\\csp\\\\No16-01.cpp\", \"file_path\": \"G:\\\\A\\u5927\\u4e09\\u4e0b\\\\C++\\\\csp\\\\No16-01.cpp\", \"type\": \"cpplint\", \"res\": [{\"line\": 1, \"column\": 0, \"message\": \"Include file: <iostream> not found. Please note: Cppcheck does not need standard library headers to get proper results.\", \"id\": \"missingIncludeSystem\", \"severity\": \"information\", \"type\": \"cppcheck\", \"content\": \"#include<iostream>\"}, {\"line\": 2, \"column\": 0, \"message\": \"Include file: <cstring> not found. Please note: Cppcheck does not need standard library headers to get proper results.\", \"id\": \"missingIncludeSystem\", \"severity\": \"information\", \"type\": \"cppcheck\", \"content\": \"#include<cstring>\"}, {\"line\": 3, \"column\": 0, \"message\": \"Include file: <cstdio> not found. Please note: Cppcheck does not need standard library headers to get proper results.\", \"id\": \"missingIncludeSystem\", \"severity\": \"information\", \"type\": \"cppcheck\", \"content\": \"#include<cstdio>\"}, {\"line\": 4, \"column\": 0, \"message\": \"Include file: <iomanip> not found. Please note: Cppcheck does not need standard library headers to get proper results.\", \"id\": \"missingIncludeSystem\", \"severity\": \"information\", \"type\": \"cppcheck\", \"content\": \"#include <iomanip>\"}, {\"line\": 10, \"column\": 16, \"message\": \"The scope of the variable 'middle_r' can be reduced.\", \"id\": \"variableScope\", \"severity\": \"style\", \"type\": \"cppcheck\", \"content\": \"int middle_l, middle_r;\"}, {\"line\": 12, \"column\": 12, \"message\": \"Variable 'middle_l' is assigned a value that is never used.\", \"id\": \"unreadVariable\", \"severity\": \"style\", \"type\": \"cppcheck\", \"content\": \"middle_l = n / 2 + 1;\"}, {\"line\": 14, \"column\": 12, \"message\": \"Variable 'middle_l' is assigned a value that is never used.\", \"id\": \"unreadVariable\", \"severity\": \"style\", \"type\": \"cppcheck\", \"content\": \"middle_l = n / 2;\"}, {\"line\": 15, \"column\": 12, \"message\": \"Variable 'middle_r' is assigned a value that is never used.\", \"id\": \"unreadVariable\", \"severity\": \"style\", \"type\": \"cppcheck\", \"content\": \"middle_r = n / 2 + 1;\"}, {\"line\": 21, \"column\": 9, \"message\": \"Unused variable: b\", \"id\": \"unusedVariable\", \"severity\": \"style\", \"type\": \"cppcheck\", \"content\": \"int a, b;\"}, {\"line\": 6, \"column\": 0, \"message\": \"The function 'solution' is never used.\", \"id\": \"unusedFunction\", \"severity\": \"style\", \"type\": \"cppcheck\", \"content\": \"int solution() {\"}]}\n"
     ]
    }
   ],
   "source": [
    "from api.tools.cpp import cpp_standard_check,cpp_syntax_analysis\n",
    "\n",
    "file_path = r'G:\\A大三下\\C++\\csp\\No16-01.cpp'\n",
    "errors = cpp_syntax_analysis(file_path)\n",
    "print(errors)"
   ],
   "metadata": {
    "collapsed": false,
    "ExecuteTime": {
     "end_time": "2024-07-05T02:41:27.761729Z",
     "start_time": "2024-07-05T02:41:27.694997700Z"
    }
   },
   "id": "bed24000b2d4ebd7"
  },
  {
   "cell_type": "code",
   "execution_count": 3,
   "outputs": [
    {
     "data": {
      "text/plain": "'No16-01.cpp'"
     },
     "execution_count": 3,
     "metadata": {},
     "output_type": "execute_result"
    }
   ],
   "source": [
    "import os\n",
    "os.path.basename(file_path)"
   ],
   "metadata": {
    "collapsed": false,
    "ExecuteTime": {
     "end_time": "2024-07-05T02:41:46.579631200Z",
     "start_time": "2024-07-05T02:41:46.526355600Z"
    }
   },
   "id": "96724d22a32f40f0"
  },
  {
   "cell_type": "code",
   "execution_count": 10,
   "outputs": [],
   "source": [
    "!pip freeze > requirements.txt"
   ],
   "metadata": {
    "collapsed": false,
    "ExecuteTime": {
     "end_time": "2024-07-05T19:01:25.694190200Z",
     "start_time": "2024-07-05T19:01:23.259208600Z"
    }
   },
   "id": "86fb0b4cfd7a94bb"
  },
  {
   "cell_type": "code",
   "execution_count": null,
   "outputs": [],
   "source": [],
   "metadata": {
    "collapsed": false
   },
   "id": "12740f70bedd7923"
  }
 ],
 "metadata": {
  "kernelspec": {
   "display_name": "Python 3",
   "language": "python",
   "name": "python3"
  },
  "language_info": {
   "codemirror_mode": {
    "name": "ipython",
    "version": 3
   },
   "file_extension": ".py",
   "mimetype": "text/x-python",
   "name": "python",
   "nbconvert_exporter": "python",
   "pygments_lexer": "ipython3",
   "version": "3.9.1"
  }
 },
 "nbformat": 4,
 "nbformat_minor": 5
}
